# stock_predictor_demo.ipynb
import joblib
from stock_predictor import fetch_stock_data, add_technical_indicators, plot_predictions, predict_latest

# 1. Load model bundle
bundle = joblib.load('stock_predictor_model.pkl')
model = bundle['model']
predictors = bundle['predictors']

print(f"Loaded model with {len(predictors)} predictors")

# 2. Fetch latest S&P 500 data
df = fetch_stock_data("^GSPC")

# 3. Add indicators
df = add_technical_indicators(df)

# 4. Predict last 5 days
latest_df = predict_latest(model, df, predictors, n_days=5)

# 5. Plot
plot_predictions(latest_df, "S&P500 - Latest 5 Days")

# 6. Display predictions nicely
latest_df.round(4)
